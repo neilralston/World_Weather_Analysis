{
 "cells": [
  {
   "cell_type": "code",
   "execution_count": 1,
   "id": "f205e2b7",
   "metadata": {},
   "outputs": [],
   "source": [
    "# Import the dependencies.\n",
    "import pandas as pd\n",
    "import gmaps\n",
    "import requests\n",
    "# Import the API key.\n",
    "from config2 import g_key"
   ]
  },
  {
   "cell_type": "code",
   "execution_count": 2,
   "id": "5cfafaaf",
   "metadata": {},
   "outputs": [
    {
     "name": "stdout",
     "output_type": "stream",
     "text": [
      "Requirement already satisfied: gmaps in c:\\users\\neil.ralston.mac\\anaconda3\\envs\\pythondata\\lib\\site-packages (0.9.0)\n",
      "Requirement already satisfied: six in c:\\users\\neil.ralston.mac\\anaconda3\\envs\\pythondata\\lib\\site-packages (from gmaps) (1.16.0)\n",
      "Requirement already satisfied: traitlets>=4.3.0 in c:\\users\\neil.ralston.mac\\anaconda3\\envs\\pythondata\\lib\\site-packages (from gmaps) (5.1.0)\n",
      "Requirement already satisfied: geojson>=2.0.0 in c:\\users\\neil.ralston.mac\\anaconda3\\envs\\pythondata\\lib\\site-packages (from gmaps) (2.5.0)\n",
      "Requirement already satisfied: ipywidgets>=7.0.0 in c:\\users\\neil.ralston.mac\\anaconda3\\envs\\pythondata\\lib\\site-packages (from gmaps) (7.6.5)\n",
      "Requirement already satisfied: ipython>=5.3.0 in c:\\users\\neil.ralston.mac\\anaconda3\\envs\\pythondata\\lib\\site-packages (from gmaps) (7.29.0)\n",
      "Requirement already satisfied: setuptools>=18.5 in c:\\users\\neil.ralston.mac\\anaconda3\\envs\\pythondata\\lib\\site-packages (from ipython>=5.3.0->gmaps) (58.0.4)\n",
      "Requirement already satisfied: pickleshare in c:\\users\\neil.ralston.mac\\anaconda3\\envs\\pythondata\\lib\\site-packages (from ipython>=5.3.0->gmaps) (0.7.5)\n",
      "Requirement already satisfied: pygments in c:\\users\\neil.ralston.mac\\anaconda3\\envs\\pythondata\\lib\\site-packages (from ipython>=5.3.0->gmaps) (2.10.0)\n",
      "Requirement already satisfied: jedi>=0.16 in c:\\users\\neil.ralston.mac\\anaconda3\\envs\\pythondata\\lib\\site-packages (from ipython>=5.3.0->gmaps) (0.18.0)\n",
      "Requirement already satisfied: matplotlib-inline in c:\\users\\neil.ralston.mac\\anaconda3\\envs\\pythondata\\lib\\site-packages (from ipython>=5.3.0->gmaps) (0.1.2)\n",
      "Requirement already satisfied: prompt-toolkit!=3.0.0,!=3.0.1,<3.1.0,>=2.0.0 in c:\\users\\neil.ralston.mac\\anaconda3\\envs\\pythondata\\lib\\site-packages (from ipython>=5.3.0->gmaps) (3.0.20)\n",
      "Requirement already satisfied: colorama in c:\\users\\neil.ralston.mac\\anaconda3\\envs\\pythondata\\lib\\site-packages (from ipython>=5.3.0->gmaps) (0.4.4)\n",
      "Requirement already satisfied: decorator in c:\\users\\neil.ralston.mac\\anaconda3\\envs\\pythondata\\lib\\site-packages (from ipython>=5.3.0->gmaps) (5.1.0)\n",
      "Requirement already satisfied: backcall in c:\\users\\neil.ralston.mac\\anaconda3\\envs\\pythondata\\lib\\site-packages (from ipython>=5.3.0->gmaps) (0.2.0)\n",
      "Requirement already satisfied: ipython-genutils~=0.2.0 in c:\\users\\neil.ralston.mac\\anaconda3\\envs\\pythondata\\lib\\site-packages (from ipywidgets>=7.0.0->gmaps) (0.2.0)\n",
      "Requirement already satisfied: ipykernel>=4.5.1 in c:\\users\\neil.ralston.mac\\anaconda3\\envs\\pythondata\\lib\\site-packages (from ipywidgets>=7.0.0->gmaps) (6.4.1)\n",
      "Requirement already satisfied: jupyterlab-widgets>=1.0.0 in c:\\users\\neil.ralston.mac\\anaconda3\\envs\\pythondata\\lib\\site-packages (from ipywidgets>=7.0.0->gmaps) (1.0.0)\n",
      "Requirement already satisfied: widgetsnbextension~=3.5.0 in c:\\users\\neil.ralston.mac\\anaconda3\\envs\\pythondata\\lib\\site-packages (from ipywidgets>=7.0.0->gmaps) (3.5.1)\n",
      "Requirement already satisfied: nbformat>=4.2.0 in c:\\users\\neil.ralston.mac\\anaconda3\\envs\\pythondata\\lib\\site-packages (from ipywidgets>=7.0.0->gmaps) (5.1.3)\n",
      "Requirement already satisfied: jupyter-client<8.0 in c:\\users\\neil.ralston.mac\\anaconda3\\envs\\pythondata\\lib\\site-packages (from ipykernel>=4.5.1->ipywidgets>=7.0.0->gmaps) (6.1.12)\n",
      "Requirement already satisfied: debugpy<2.0,>=1.0.0 in c:\\users\\neil.ralston.mac\\anaconda3\\envs\\pythondata\\lib\\site-packages (from ipykernel>=4.5.1->ipywidgets>=7.0.0->gmaps) (1.4.1)\n",
      "Requirement already satisfied: importlib-metadata<5 in c:\\users\\neil.ralston.mac\\anaconda3\\envs\\pythondata\\lib\\site-packages (from ipykernel>=4.5.1->ipywidgets>=7.0.0->gmaps) (4.8.1)\n",
      "Requirement already satisfied: tornado<7.0,>=4.2 in c:\\users\\neil.ralston.mac\\anaconda3\\envs\\pythondata\\lib\\site-packages (from ipykernel>=4.5.1->ipywidgets>=7.0.0->gmaps) (6.1)\n",
      "Requirement already satisfied: argcomplete>=1.12.3 in c:\\users\\neil.ralston.mac\\anaconda3\\envs\\pythondata\\lib\\site-packages (from ipykernel>=4.5.1->ipywidgets>=7.0.0->gmaps) (1.12.3)\n",
      "Requirement already satisfied: zipp>=0.5 in c:\\users\\neil.ralston.mac\\anaconda3\\envs\\pythondata\\lib\\site-packages (from importlib-metadata<5->ipykernel>=4.5.1->ipywidgets>=7.0.0->gmaps) (3.6.0)\n",
      "Requirement already satisfied: typing-extensions>=3.6.4 in c:\\users\\neil.ralston.mac\\anaconda3\\envs\\pythondata\\lib\\site-packages (from importlib-metadata<5->ipykernel>=4.5.1->ipywidgets>=7.0.0->gmaps) (3.10.0.2)\n",
      "Requirement already satisfied: parso<0.9.0,>=0.8.0 in c:\\users\\neil.ralston.mac\\anaconda3\\envs\\pythondata\\lib\\site-packages (from jedi>=0.16->ipython>=5.3.0->gmaps) (0.8.2)\n",
      "Requirement already satisfied: pyzmq>=13 in c:\\users\\neil.ralston.mac\\anaconda3\\envs\\pythondata\\lib\\site-packages (from jupyter-client<8.0->ipykernel>=4.5.1->ipywidgets>=7.0.0->gmaps) (22.2.1)\n",
      "Requirement already satisfied: python-dateutil>=2.1 in c:\\users\\neil.ralston.mac\\anaconda3\\envs\\pythondata\\lib\\site-packages (from jupyter-client<8.0->ipykernel>=4.5.1->ipywidgets>=7.0.0->gmaps) (2.8.2)\n",
      "Requirement already satisfied: jupyter-core>=4.6.0 in c:\\users\\neil.ralston.mac\\anaconda3\\envs\\pythondata\\lib\\site-packages (from jupyter-client<8.0->ipykernel>=4.5.1->ipywidgets>=7.0.0->gmaps) (4.8.1)\n",
      "Requirement already satisfied: pywin32>=1.0 in c:\\users\\neil.ralston.mac\\anaconda3\\envs\\pythondata\\lib\\site-packages (from jupyter-core>=4.6.0->jupyter-client<8.0->ipykernel>=4.5.1->ipywidgets>=7.0.0->gmaps) (227)\n",
      "Requirement already satisfied: jsonschema!=2.5.0,>=2.4 in c:\\users\\neil.ralston.mac\\anaconda3\\envs\\pythondata\\lib\\site-packages (from nbformat>=4.2.0->ipywidgets>=7.0.0->gmaps) (3.2.0)\n",
      "Requirement already satisfied: attrs>=17.4.0 in c:\\users\\neil.ralston.mac\\anaconda3\\envs\\pythondata\\lib\\site-packages (from jsonschema!=2.5.0,>=2.4->nbformat>=4.2.0->ipywidgets>=7.0.0->gmaps) (21.2.0)\n",
      "Requirement already satisfied: pyrsistent>=0.14.0 in c:\\users\\neil.ralston.mac\\anaconda3\\envs\\pythondata\\lib\\site-packages (from jsonschema!=2.5.0,>=2.4->nbformat>=4.2.0->ipywidgets>=7.0.0->gmaps) (0.18.0)\n",
      "Requirement already satisfied: wcwidth in c:\\users\\neil.ralston.mac\\anaconda3\\envs\\pythondata\\lib\\site-packages (from prompt-toolkit!=3.0.0,!=3.0.1,<3.1.0,>=2.0.0->ipython>=5.3.0->gmaps) (0.2.5)\n",
      "Requirement already satisfied: notebook>=4.4.1 in c:\\users\\neil.ralston.mac\\anaconda3\\envs\\pythondata\\lib\\site-packages (from widgetsnbextension~=3.5.0->ipywidgets>=7.0.0->gmaps) (6.4.5)\n",
      "Requirement already satisfied: jinja2 in c:\\users\\neil.ralston.mac\\anaconda3\\envs\\pythondata\\lib\\site-packages (from notebook>=4.4.1->widgetsnbextension~=3.5.0->ipywidgets>=7.0.0->gmaps) (2.11.3)\n",
      "Requirement already satisfied: nbconvert in c:\\users\\neil.ralston.mac\\anaconda3\\envs\\pythondata\\lib\\site-packages (from notebook>=4.4.1->widgetsnbextension~=3.5.0->ipywidgets>=7.0.0->gmaps) (6.1.0)\n",
      "Requirement already satisfied: Send2Trash>=1.5.0 in c:\\users\\neil.ralston.mac\\anaconda3\\envs\\pythondata\\lib\\site-packages (from notebook>=4.4.1->widgetsnbextension~=3.5.0->ipywidgets>=7.0.0->gmaps) (1.8.0)\n",
      "Requirement already satisfied: prometheus-client in c:\\users\\neil.ralston.mac\\anaconda3\\envs\\pythondata\\lib\\site-packages (from notebook>=4.4.1->widgetsnbextension~=3.5.0->ipywidgets>=7.0.0->gmaps) (0.11.0)\n",
      "Requirement already satisfied: argon2-cffi in c:\\users\\neil.ralston.mac\\anaconda3\\envs\\pythondata\\lib\\site-packages (from notebook>=4.4.1->widgetsnbextension~=3.5.0->ipywidgets>=7.0.0->gmaps) (20.1.0)\n",
      "Requirement already satisfied: terminado>=0.8.3 in c:\\users\\neil.ralston.mac\\anaconda3\\envs\\pythondata\\lib\\site-packages (from notebook>=4.4.1->widgetsnbextension~=3.5.0->ipywidgets>=7.0.0->gmaps) (0.9.4)\n",
      "Requirement already satisfied: pywinpty>=0.5 in c:\\users\\neil.ralston.mac\\anaconda3\\envs\\pythondata\\lib\\site-packages (from terminado>=0.8.3->notebook>=4.4.1->widgetsnbextension~=3.5.0->ipywidgets>=7.0.0->gmaps) (0.5.7)\n",
      "Requirement already satisfied: cffi>=1.0.0 in c:\\users\\neil.ralston.mac\\anaconda3\\envs\\pythondata\\lib\\site-packages (from argon2-cffi->notebook>=4.4.1->widgetsnbextension~=3.5.0->ipywidgets>=7.0.0->gmaps) (1.14.6)\n",
      "Requirement already satisfied: pycparser in c:\\users\\neil.ralston.mac\\anaconda3\\envs\\pythondata\\lib\\site-packages (from cffi>=1.0.0->argon2-cffi->notebook>=4.4.1->widgetsnbextension~=3.5.0->ipywidgets>=7.0.0->gmaps) (2.20)\n",
      "Requirement already satisfied: MarkupSafe>=0.23 in c:\\users\\neil.ralston.mac\\anaconda3\\envs\\pythondata\\lib\\site-packages (from jinja2->notebook>=4.4.1->widgetsnbextension~=3.5.0->ipywidgets>=7.0.0->gmaps) (1.1.1)\n",
      "Requirement already satisfied: testpath in c:\\users\\neil.ralston.mac\\anaconda3\\envs\\pythondata\\lib\\site-packages (from nbconvert->notebook>=4.4.1->widgetsnbextension~=3.5.0->ipywidgets>=7.0.0->gmaps) (0.5.0)\n",
      "Requirement already satisfied: entrypoints>=0.2.2 in c:\\users\\neil.ralston.mac\\anaconda3\\envs\\pythondata\\lib\\site-packages (from nbconvert->notebook>=4.4.1->widgetsnbextension~=3.5.0->ipywidgets>=7.0.0->gmaps) (0.3)\n",
      "Requirement already satisfied: pandocfilters>=1.4.1 in c:\\users\\neil.ralston.mac\\anaconda3\\envs\\pythondata\\lib\\site-packages (from nbconvert->notebook>=4.4.1->widgetsnbextension~=3.5.0->ipywidgets>=7.0.0->gmaps) (1.4.3)\n",
      "Requirement already satisfied: nbclient<0.6.0,>=0.5.0 in c:\\users\\neil.ralston.mac\\anaconda3\\envs\\pythondata\\lib\\site-packages (from nbconvert->notebook>=4.4.1->widgetsnbextension~=3.5.0->ipywidgets>=7.0.0->gmaps) (0.5.3)\n",
      "Requirement already satisfied: defusedxml in c:\\users\\neil.ralston.mac\\anaconda3\\envs\\pythondata\\lib\\site-packages (from nbconvert->notebook>=4.4.1->widgetsnbextension~=3.5.0->ipywidgets>=7.0.0->gmaps) (0.7.1)\n",
      "Requirement already satisfied: jupyterlab-pygments in c:\\users\\neil.ralston.mac\\anaconda3\\envs\\pythondata\\lib\\site-packages (from nbconvert->notebook>=4.4.1->widgetsnbextension~=3.5.0->ipywidgets>=7.0.0->gmaps) (0.1.2)\n",
      "Requirement already satisfied: mistune<2,>=0.8.1 in c:\\users\\neil.ralston.mac\\anaconda3\\envs\\pythondata\\lib\\site-packages (from nbconvert->notebook>=4.4.1->widgetsnbextension~=3.5.0->ipywidgets>=7.0.0->gmaps) (0.8.4)\n",
      "Requirement already satisfied: bleach in c:\\users\\neil.ralston.mac\\anaconda3\\envs\\pythondata\\lib\\site-packages (from nbconvert->notebook>=4.4.1->widgetsnbextension~=3.5.0->ipywidgets>=7.0.0->gmaps) (4.0.0)\n",
      "Requirement already satisfied: async-generator in c:\\users\\neil.ralston.mac\\anaconda3\\envs\\pythondata\\lib\\site-packages (from nbclient<0.6.0,>=0.5.0->nbconvert->notebook>=4.4.1->widgetsnbextension~=3.5.0->ipywidgets>=7.0.0->gmaps) (1.10)\n",
      "Requirement already satisfied: nest-asyncio in c:\\users\\neil.ralston.mac\\anaconda3\\envs\\pythondata\\lib\\site-packages (from nbclient<0.6.0,>=0.5.0->nbconvert->notebook>=4.4.1->widgetsnbextension~=3.5.0->ipywidgets>=7.0.0->gmaps) (1.5.1)\n",
      "Requirement already satisfied: webencodings in c:\\users\\neil.ralston.mac\\anaconda3\\envs\\pythondata\\lib\\site-packages (from bleach->nbconvert->notebook>=4.4.1->widgetsnbextension~=3.5.0->ipywidgets>=7.0.0->gmaps) (0.5.1)\n",
      "Requirement already satisfied: packaging in c:\\users\\neil.ralston.mac\\anaconda3\\envs\\pythondata\\lib\\site-packages (from bleach->nbconvert->notebook>=4.4.1->widgetsnbextension~=3.5.0->ipywidgets>=7.0.0->gmaps) (21.0)\n",
      "Requirement already satisfied: pyparsing>=2.0.2 in c:\\users\\neil.ralston.mac\\anaconda3\\envs\\pythondata\\lib\\site-packages (from packaging->bleach->nbconvert->notebook>=4.4.1->widgetsnbextension~=3.5.0->ipywidgets>=7.0.0->gmaps) (3.0.4)\n"
     ]
    }
   ],
   "source": [
    "!pip install gmaps"
   ]
  },
  {
   "cell_type": "code",
   "execution_count": 3,
   "id": "17f324d3",
   "metadata": {},
   "outputs": [
    {
     "name": "stderr",
     "output_type": "stream",
     "text": [
      "Enabling notebook extension jupyter-gmaps/extension...\n",
      "      - Validating: ok\n"
     ]
    }
   ],
   "source": [
    "!jupyter nbextension enable --py --sys-prefix gmaps"
   ]
  },
  {
   "cell_type": "code",
   "execution_count": 4,
   "id": "9694465a",
   "metadata": {},
   "outputs": [],
   "source": [
    "%matplotlib inline"
   ]
  },
  {
   "cell_type": "code",
   "execution_count": 5,
   "id": "4c55103c",
   "metadata": {},
   "outputs": [
    {
     "data": {
      "text/html": [
       "<div>\n",
       "<style scoped>\n",
       "    .dataframe tbody tr th:only-of-type {\n",
       "        vertical-align: middle;\n",
       "    }\n",
       "\n",
       "    .dataframe tbody tr th {\n",
       "        vertical-align: top;\n",
       "    }\n",
       "\n",
       "    .dataframe thead th {\n",
       "        text-align: right;\n",
       "    }\n",
       "</style>\n",
       "<table border=\"1\" class=\"dataframe\">\n",
       "  <thead>\n",
       "    <tr style=\"text-align: right;\">\n",
       "      <th></th>\n",
       "      <th>City_ID</th>\n",
       "      <th>City</th>\n",
       "      <th>Country</th>\n",
       "      <th>Date</th>\n",
       "      <th>Lat</th>\n",
       "      <th>Lng</th>\n",
       "      <th>Max Temp</th>\n",
       "      <th>Humidity</th>\n",
       "      <th>Cloudiness</th>\n",
       "      <th>Wind Speed</th>\n",
       "    </tr>\n",
       "  </thead>\n",
       "  <tbody>\n",
       "    <tr>\n",
       "      <th>0</th>\n",
       "      <td>0</td>\n",
       "      <td>Mataura</td>\n",
       "      <td>NZ</td>\n",
       "      <td>2022-04-29 19:27:35</td>\n",
       "      <td>-46.1927</td>\n",
       "      <td>168.8643</td>\n",
       "      <td>45.48</td>\n",
       "      <td>94</td>\n",
       "      <td>100</td>\n",
       "      <td>3.22</td>\n",
       "    </tr>\n",
       "    <tr>\n",
       "      <th>1</th>\n",
       "      <td>1</td>\n",
       "      <td>Lvovskoye</td>\n",
       "      <td>RU</td>\n",
       "      <td>2022-04-29 19:27:35</td>\n",
       "      <td>44.9944</td>\n",
       "      <td>38.6354</td>\n",
       "      <td>59.11</td>\n",
       "      <td>71</td>\n",
       "      <td>99</td>\n",
       "      <td>10.16</td>\n",
       "    </tr>\n",
       "    <tr>\n",
       "      <th>2</th>\n",
       "      <td>2</td>\n",
       "      <td>Benghazi</td>\n",
       "      <td>LY</td>\n",
       "      <td>2022-04-29 19:27:35</td>\n",
       "      <td>32.1167</td>\n",
       "      <td>20.0667</td>\n",
       "      <td>66.24</td>\n",
       "      <td>72</td>\n",
       "      <td>5</td>\n",
       "      <td>19.62</td>\n",
       "    </tr>\n",
       "    <tr>\n",
       "      <th>3</th>\n",
       "      <td>3</td>\n",
       "      <td>Bambous Virieux</td>\n",
       "      <td>MU</td>\n",
       "      <td>2022-04-29 19:27:36</td>\n",
       "      <td>-20.3428</td>\n",
       "      <td>57.7575</td>\n",
       "      <td>72.21</td>\n",
       "      <td>88</td>\n",
       "      <td>20</td>\n",
       "      <td>1.14</td>\n",
       "    </tr>\n",
       "    <tr>\n",
       "      <th>4</th>\n",
       "      <td>4</td>\n",
       "      <td>Busselton</td>\n",
       "      <td>AU</td>\n",
       "      <td>2022-04-29 19:24:28</td>\n",
       "      <td>-33.6500</td>\n",
       "      <td>115.3333</td>\n",
       "      <td>54.32</td>\n",
       "      <td>84</td>\n",
       "      <td>0</td>\n",
       "      <td>5.10</td>\n",
       "    </tr>\n",
       "  </tbody>\n",
       "</table>\n",
       "</div>"
      ],
      "text/plain": [
       "   City_ID             City Country                 Date      Lat       Lng  \\\n",
       "0        0          Mataura      NZ  2022-04-29 19:27:35 -46.1927  168.8643   \n",
       "1        1        Lvovskoye      RU  2022-04-29 19:27:35  44.9944   38.6354   \n",
       "2        2         Benghazi      LY  2022-04-29 19:27:35  32.1167   20.0667   \n",
       "3        3  Bambous Virieux      MU  2022-04-29 19:27:36 -20.3428   57.7575   \n",
       "4        4        Busselton      AU  2022-04-29 19:24:28 -33.6500  115.3333   \n",
       "\n",
       "   Max Temp  Humidity  Cloudiness  Wind Speed  \n",
       "0     45.48        94         100        3.22  \n",
       "1     59.11        71          99       10.16  \n",
       "2     66.24        72           5       19.62  \n",
       "3     72.21        88          20        1.14  \n",
       "4     54.32        84           0        5.10  "
      ]
     },
     "execution_count": 5,
     "metadata": {},
     "output_type": "execute_result"
    }
   ],
   "source": [
    "# Store the CSV you saved created in part one into a DataFrame.\n",
    "city_data_df = pd.read_csv(\"weather_data/cities.csv\")\n",
    "city_data_df.head()"
   ]
  },
  {
   "cell_type": "code",
   "execution_count": 6,
   "id": "f468e19b",
   "metadata": {},
   "outputs": [
    {
     "data": {
      "text/plain": [
       "City_ID         int64\n",
       "City           object\n",
       "Country        object\n",
       "Date           object\n",
       "Lat           float64\n",
       "Lng           float64\n",
       "Max Temp      float64\n",
       "Humidity        int64\n",
       "Cloudiness      int64\n",
       "Wind Speed    float64\n",
       "dtype: object"
      ]
     },
     "execution_count": 6,
     "metadata": {},
     "output_type": "execute_result"
    }
   ],
   "source": [
    "city_data_df.dtypes\n"
   ]
  },
  {
   "cell_type": "code",
   "execution_count": 7,
   "id": "db120dca",
   "metadata": {},
   "outputs": [],
   "source": [
    "#Create a Maximum Temperature Heatmap"
   ]
  },
  {
   "cell_type": "code",
   "execution_count": 8,
   "id": "d200a705",
   "metadata": {},
   "outputs": [],
   "source": [
    "# Configure gmaps to use your Google API key.\n",
    "gmaps.configure(api_key=g_key)\n"
   ]
  },
  {
   "cell_type": "code",
   "execution_count": 9,
   "id": "354c4eff",
   "metadata": {},
   "outputs": [],
   "source": [
    "# Get the maximum temperature.\n",
    "max_temp = city_data_df[\"Max Temp\"]\n",
    "temps = []\n",
    "for temp in max_temp:\n",
    "    temps.append(max(temp, 0))"
   ]
  },
  {
   "cell_type": "code",
   "execution_count": 10,
   "id": "f0e672fc",
   "metadata": {},
   "outputs": [
    {
     "data": {
      "application/vnd.jupyter.widget-view+json": {
       "model_id": "da144c60660c44e2a54afe1a13a56c27",
       "version_major": 2,
       "version_minor": 0
      },
      "text/plain": [
       "Figure(layout=FigureLayout(height='420px'))"
      ]
     },
     "metadata": {},
     "output_type": "display_data"
    }
   ],
   "source": [
    "# Heatmap of temperature\n",
    "# Get the latitude and longitude.\n",
    "locations = city_data_df[[\"Lat\", \"Lng\"]]\n",
    "# Get the maximum temperature.\n",
    "max_temp = city_data_df[\"Max Temp\"]\n",
    "# Assign the figure variable.\n",
    "fig = gmaps.figure()\n",
    "# Assign the heatmap variable.\n",
    "heat_layer = gmaps.heatmap_layer(locations, weights=[max(temp, 0) for temp in max_temp], dissipating=False, max_intensity=300, point_radius=4)\n",
    "# Add the heatmap layer.\n",
    "fig.add_layer(heat_layer)\n",
    "# Call the figure to plot the data.\n",
    "fig"
   ]
  },
  {
   "cell_type": "code",
   "execution_count": 11,
   "id": "81eb2652",
   "metadata": {},
   "outputs": [
    {
     "data": {
      "application/vnd.jupyter.widget-view+json": {
       "model_id": "2ce368a6de9543da9bbaae3df8ae6f5a",
       "version_major": 2,
       "version_minor": 0
      },
      "text/plain": [
       "Figure(layout=FigureLayout(height='420px'))"
      ]
     },
     "metadata": {},
     "output_type": "display_data"
    }
   ],
   "source": [
    "# Heatmap of percent humidity\n",
    "locations = city_data_df[[\"Lat\", \"Lng\"]]\n",
    "humidity = city_data_df[\"Humidity\"]\n",
    "fig = gmaps.figure(center=(30.0, 31.0), zoom_level=1.5)\n",
    "heat_layer = gmaps.heatmap_layer(locations, weights=humidity, dissipating=False, max_intensity=300, point_radius=4)\n",
    "\n",
    "fig.add_layer(heat_layer)\n",
    "# Call the figure to plot the data.\n",
    "fig"
   ]
  },
  {
   "cell_type": "code",
   "execution_count": 12,
   "id": "92c84ece",
   "metadata": {},
   "outputs": [
    {
     "data": {
      "application/vnd.jupyter.widget-view+json": {
       "model_id": "de17da5cb6644888a7d57bace01389a4",
       "version_major": 2,
       "version_minor": 0
      },
      "text/plain": [
       "Figure(layout=FigureLayout(height='420px'))"
      ]
     },
     "metadata": {},
     "output_type": "display_data"
    }
   ],
   "source": [
    "# Heatmap of temperature\n",
    "\n",
    "# Get the latitude and longitude.\n",
    "locations = city_data_df[[\"Lat\", \"Lng\"]]\n",
    "\n",
    "# Get the maximum temperature.\n",
    "max_temp = city_data_df[\"Max Temp\"]\n",
    "\n",
    "# Assign the figure variable.\n",
    "fig = gmaps.figure(center=(30.0, 31.0), zoom_level=1.5)\n",
    "\n",
    "# Assign the heatmap variable.\n",
    "heat_layer = gmaps.heatmap_layer(locations, weights=temps, dissipating=False, max_intensity=300, point_radius=4)\n",
    "\n",
    "# Add the heatmap layer.\n",
    "fig.add_layer(heat_layer)\n",
    "\n",
    "# Call the figure to plot the data.\n",
    "fig"
   ]
  },
  {
   "cell_type": "code",
   "execution_count": 13,
   "id": "23478155",
   "metadata": {},
   "outputs": [
    {
     "name": "stdout",
     "output_type": "stream",
     "text": [
      "Known nbextensions:\n",
      "  config dir: C:\\Users\\neil.ralston.MAC\\Anaconda3\\envs\\PythonData\\etc\\jupyter\\nbconfig\n",
      "    notebook section\n",
      "      jupyter-js-widgets/extension enabled \n",
      "      jupyter-gmaps/extension enabled \n"
     ]
    },
    {
     "name": "stderr",
     "output_type": "stream",
     "text": [
      "      - Validating: ok\n",
      "      - Validating: ok\n"
     ]
    }
   ],
   "source": [
    "!jupyter nbextension list"
   ]
  },
  {
   "cell_type": "code",
   "execution_count": null,
   "id": "9b7a77aa",
   "metadata": {},
   "outputs": [],
   "source": []
  }
 ],
 "metadata": {
  "kernelspec": {
   "display_name": "PythonData",
   "language": "python",
   "name": "pythondata"
  },
  "language_info": {
   "codemirror_mode": {
    "name": "ipython",
    "version": 3
   },
   "file_extension": ".py",
   "mimetype": "text/x-python",
   "name": "python",
   "nbconvert_exporter": "python",
   "pygments_lexer": "ipython3",
   "version": "3.7.11"
  }
 },
 "nbformat": 4,
 "nbformat_minor": 5
}
