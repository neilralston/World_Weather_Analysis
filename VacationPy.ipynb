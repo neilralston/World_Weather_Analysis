{
 "cells": [
  {
   "cell_type": "code",
   "execution_count": 1,
   "id": "f205e2b7",
   "metadata": {},
   "outputs": [],
   "source": [
    "# Import the dependencies.\n",
    "import pandas as pd\n",
    "import gmaps\n",
    "import requests\n",
    "# Import the API key.\n",
    "from config2 import g_key"
   ]
  },
  {
   "cell_type": "code",
   "execution_count": 2,
   "id": "5cfafaaf",
   "metadata": {},
   "outputs": [
    {
     "name": "stdout",
     "output_type": "stream",
     "text": [
      "Requirement already satisfied: gmaps in c:\\users\\neil.ralston.mac\\anaconda3\\envs\\pythondata\\lib\\site-packages (0.9.0)\n",
      "Requirement already satisfied: geojson>=2.0.0 in c:\\users\\neil.ralston.mac\\anaconda3\\envs\\pythondata\\lib\\site-packages (from gmaps) (2.5.0)\n",
      "Requirement already satisfied: traitlets>=4.3.0 in c:\\users\\neil.ralston.mac\\anaconda3\\envs\\pythondata\\lib\\site-packages (from gmaps) (5.1.0)\n",
      "Requirement already satisfied: ipywidgets>=7.0.0 in c:\\users\\neil.ralston.mac\\anaconda3\\envs\\pythondata\\lib\\site-packages (from gmaps) (7.6.5)\n",
      "Requirement already satisfied: six in c:\\users\\neil.ralston.mac\\anaconda3\\envs\\pythondata\\lib\\site-packages (from gmaps) (1.16.0)\n",
      "Requirement already satisfied: ipython>=5.3.0 in c:\\users\\neil.ralston.mac\\anaconda3\\envs\\pythondata\\lib\\site-packages (from gmaps) (7.29.0)\n",
      "Requirement already satisfied: pygments in c:\\users\\neil.ralston.mac\\anaconda3\\envs\\pythondata\\lib\\site-packages (from ipython>=5.3.0->gmaps) (2.10.0)\n",
      "Requirement already satisfied: decorator in c:\\users\\neil.ralston.mac\\anaconda3\\envs\\pythondata\\lib\\site-packages (from ipython>=5.3.0->gmaps) (5.1.0)\n",
      "Requirement already satisfied: colorama in c:\\users\\neil.ralston.mac\\anaconda3\\envs\\pythondata\\lib\\site-packages (from ipython>=5.3.0->gmaps) (0.4.4)\n",
      "Requirement already satisfied: prompt-toolkit!=3.0.0,!=3.0.1,<3.1.0,>=2.0.0 in c:\\users\\neil.ralston.mac\\anaconda3\\envs\\pythondata\\lib\\site-packages (from ipython>=5.3.0->gmaps) (3.0.20)\n",
      "Requirement already satisfied: setuptools>=18.5 in c:\\users\\neil.ralston.mac\\anaconda3\\envs\\pythondata\\lib\\site-packages (from ipython>=5.3.0->gmaps) (58.0.4)\n",
      "Requirement already satisfied: jedi>=0.16 in c:\\users\\neil.ralston.mac\\anaconda3\\envs\\pythondata\\lib\\site-packages (from ipython>=5.3.0->gmaps) (0.18.0)\n",
      "Requirement already satisfied: backcall in c:\\users\\neil.ralston.mac\\anaconda3\\envs\\pythondata\\lib\\site-packages (from ipython>=5.3.0->gmaps) (0.2.0)\n",
      "Requirement already satisfied: pickleshare in c:\\users\\neil.ralston.mac\\anaconda3\\envs\\pythondata\\lib\\site-packages (from ipython>=5.3.0->gmaps) (0.7.5)\n",
      "Requirement already satisfied: matplotlib-inline in c:\\users\\neil.ralston.mac\\anaconda3\\envs\\pythondata\\lib\\site-packages (from ipython>=5.3.0->gmaps) (0.1.2)\n",
      "Requirement already satisfied: ipykernel>=4.5.1 in c:\\users\\neil.ralston.mac\\anaconda3\\envs\\pythondata\\lib\\site-packages (from ipywidgets>=7.0.0->gmaps) (6.4.1)\n",
      "Requirement already satisfied: widgetsnbextension~=3.5.0 in c:\\users\\neil.ralston.mac\\anaconda3\\envs\\pythondata\\lib\\site-packages (from ipywidgets>=7.0.0->gmaps) (3.5.1)\n",
      "Requirement already satisfied: nbformat>=4.2.0 in c:\\users\\neil.ralston.mac\\anaconda3\\envs\\pythondata\\lib\\site-packages (from ipywidgets>=7.0.0->gmaps) (5.1.3)\n",
      "Requirement already satisfied: ipython-genutils~=0.2.0 in c:\\users\\neil.ralston.mac\\anaconda3\\envs\\pythondata\\lib\\site-packages (from ipywidgets>=7.0.0->gmaps) (0.2.0)\n",
      "Requirement already satisfied: jupyterlab-widgets>=1.0.0 in c:\\users\\neil.ralston.mac\\anaconda3\\envs\\pythondata\\lib\\site-packages (from ipywidgets>=7.0.0->gmaps) (1.0.0)\n",
      "Requirement already satisfied: importlib-metadata<5 in c:\\users\\neil.ralston.mac\\anaconda3\\envs\\pythondata\\lib\\site-packages (from ipykernel>=4.5.1->ipywidgets>=7.0.0->gmaps) (4.8.1)\n",
      "Requirement already satisfied: argcomplete>=1.12.3 in c:\\users\\neil.ralston.mac\\anaconda3\\envs\\pythondata\\lib\\site-packages (from ipykernel>=4.5.1->ipywidgets>=7.0.0->gmaps) (1.12.3)\n",
      "Requirement already satisfied: debugpy<2.0,>=1.0.0 in c:\\users\\neil.ralston.mac\\anaconda3\\envs\\pythondata\\lib\\site-packages (from ipykernel>=4.5.1->ipywidgets>=7.0.0->gmaps) (1.4.1)\n",
      "Requirement already satisfied: tornado<7.0,>=4.2 in c:\\users\\neil.ralston.mac\\anaconda3\\envs\\pythondata\\lib\\site-packages (from ipykernel>=4.5.1->ipywidgets>=7.0.0->gmaps) (6.1)\n",
      "Requirement already satisfied: jupyter-client<8.0 in c:\\users\\neil.ralston.mac\\anaconda3\\envs\\pythondata\\lib\\site-packages (from ipykernel>=4.5.1->ipywidgets>=7.0.0->gmaps) (6.1.12)\n",
      "Requirement already satisfied: typing-extensions>=3.6.4 in c:\\users\\neil.ralston.mac\\anaconda3\\envs\\pythondata\\lib\\site-packages (from importlib-metadata<5->ipykernel>=4.5.1->ipywidgets>=7.0.0->gmaps) (3.10.0.2)\n",
      "Requirement already satisfied: zipp>=0.5 in c:\\users\\neil.ralston.mac\\anaconda3\\envs\\pythondata\\lib\\site-packages (from importlib-metadata<5->ipykernel>=4.5.1->ipywidgets>=7.0.0->gmaps) (3.6.0)\n",
      "Requirement already satisfied: parso<0.9.0,>=0.8.0 in c:\\users\\neil.ralston.mac\\anaconda3\\envs\\pythondata\\lib\\site-packages (from jedi>=0.16->ipython>=5.3.0->gmaps) (0.8.2)\n",
      "Requirement already satisfied: python-dateutil>=2.1 in c:\\users\\neil.ralston.mac\\anaconda3\\envs\\pythondata\\lib\\site-packages (from jupyter-client<8.0->ipykernel>=4.5.1->ipywidgets>=7.0.0->gmaps) (2.8.2)\n",
      "Requirement already satisfied: pyzmq>=13 in c:\\users\\neil.ralston.mac\\anaconda3\\envs\\pythondata\\lib\\site-packages (from jupyter-client<8.0->ipykernel>=4.5.1->ipywidgets>=7.0.0->gmaps) (22.2.1)\n",
      "Requirement already satisfied: jupyter-core>=4.6.0 in c:\\users\\neil.ralston.mac\\anaconda3\\envs\\pythondata\\lib\\site-packages (from jupyter-client<8.0->ipykernel>=4.5.1->ipywidgets>=7.0.0->gmaps) (4.8.1)\n",
      "Requirement already satisfied: pywin32>=1.0 in c:\\users\\neil.ralston.mac\\anaconda3\\envs\\pythondata\\lib\\site-packages (from jupyter-core>=4.6.0->jupyter-client<8.0->ipykernel>=4.5.1->ipywidgets>=7.0.0->gmaps) (227)\n",
      "Requirement already satisfied: jsonschema!=2.5.0,>=2.4 in c:\\users\\neil.ralston.mac\\anaconda3\\envs\\pythondata\\lib\\site-packages (from nbformat>=4.2.0->ipywidgets>=7.0.0->gmaps) (3.2.0)\n",
      "Requirement already satisfied: attrs>=17.4.0 in c:\\users\\neil.ralston.mac\\anaconda3\\envs\\pythondata\\lib\\site-packages (from jsonschema!=2.5.0,>=2.4->nbformat>=4.2.0->ipywidgets>=7.0.0->gmaps) (21.2.0)\n",
      "Requirement already satisfied: pyrsistent>=0.14.0 in c:\\users\\neil.ralston.mac\\anaconda3\\envs\\pythondata\\lib\\site-packages (from jsonschema!=2.5.0,>=2.4->nbformat>=4.2.0->ipywidgets>=7.0.0->gmaps) (0.18.0)\n",
      "Requirement already satisfied: wcwidth in c:\\users\\neil.ralston.mac\\anaconda3\\envs\\pythondata\\lib\\site-packages (from prompt-toolkit!=3.0.0,!=3.0.1,<3.1.0,>=2.0.0->ipython>=5.3.0->gmaps) (0.2.5)\n",
      "Requirement already satisfied: notebook>=4.4.1 in c:\\users\\neil.ralston.mac\\anaconda3\\envs\\pythondata\\lib\\site-packages (from widgetsnbextension~=3.5.0->ipywidgets>=7.0.0->gmaps) (6.4.5)\n",
      "Requirement already satisfied: argon2-cffi in c:\\users\\neil.ralston.mac\\anaconda3\\envs\\pythondata\\lib\\site-packages (from notebook>=4.4.1->widgetsnbextension~=3.5.0->ipywidgets>=7.0.0->gmaps) (20.1.0)\n",
      "Requirement already satisfied: nbconvert in c:\\users\\neil.ralston.mac\\anaconda3\\envs\\pythondata\\lib\\site-packages (from notebook>=4.4.1->widgetsnbextension~=3.5.0->ipywidgets>=7.0.0->gmaps) (6.1.0)\n",
      "Requirement already satisfied: terminado>=0.8.3 in c:\\users\\neil.ralston.mac\\anaconda3\\envs\\pythondata\\lib\\site-packages (from notebook>=4.4.1->widgetsnbextension~=3.5.0->ipywidgets>=7.0.0->gmaps) (0.9.4)\n",
      "Requirement already satisfied: jinja2 in c:\\users\\neil.ralston.mac\\anaconda3\\envs\\pythondata\\lib\\site-packages (from notebook>=4.4.1->widgetsnbextension~=3.5.0->ipywidgets>=7.0.0->gmaps) (2.11.3)\n",
      "Requirement already satisfied: prometheus-client in c:\\users\\neil.ralston.mac\\anaconda3\\envs\\pythondata\\lib\\site-packages (from notebook>=4.4.1->widgetsnbextension~=3.5.0->ipywidgets>=7.0.0->gmaps) (0.11.0)\n",
      "Requirement already satisfied: Send2Trash>=1.5.0 in c:\\users\\neil.ralston.mac\\anaconda3\\envs\\pythondata\\lib\\site-packages (from notebook>=4.4.1->widgetsnbextension~=3.5.0->ipywidgets>=7.0.0->gmaps) (1.8.0)\n",
      "Requirement already satisfied: pywinpty>=0.5 in c:\\users\\neil.ralston.mac\\anaconda3\\envs\\pythondata\\lib\\site-packages (from terminado>=0.8.3->notebook>=4.4.1->widgetsnbextension~=3.5.0->ipywidgets>=7.0.0->gmaps) (0.5.7)\n",
      "Requirement already satisfied: cffi>=1.0.0 in c:\\users\\neil.ralston.mac\\anaconda3\\envs\\pythondata\\lib\\site-packages (from argon2-cffi->notebook>=4.4.1->widgetsnbextension~=3.5.0->ipywidgets>=7.0.0->gmaps) (1.14.6)\n",
      "Requirement already satisfied: pycparser in c:\\users\\neil.ralston.mac\\anaconda3\\envs\\pythondata\\lib\\site-packages (from cffi>=1.0.0->argon2-cffi->notebook>=4.4.1->widgetsnbextension~=3.5.0->ipywidgets>=7.0.0->gmaps) (2.20)\n",
      "Requirement already satisfied: MarkupSafe>=0.23 in c:\\users\\neil.ralston.mac\\anaconda3\\envs\\pythondata\\lib\\site-packages (from jinja2->notebook>=4.4.1->widgetsnbextension~=3.5.0->ipywidgets>=7.0.0->gmaps) (1.1.1)\n",
      "Requirement already satisfied: defusedxml in c:\\users\\neil.ralston.mac\\anaconda3\\envs\\pythondata\\lib\\site-packages (from nbconvert->notebook>=4.4.1->widgetsnbextension~=3.5.0->ipywidgets>=7.0.0->gmaps) (0.7.1)\n",
      "Requirement already satisfied: testpath in c:\\users\\neil.ralston.mac\\anaconda3\\envs\\pythondata\\lib\\site-packages (from nbconvert->notebook>=4.4.1->widgetsnbextension~=3.5.0->ipywidgets>=7.0.0->gmaps) (0.5.0)\n",
      "Requirement already satisfied: nbclient<0.6.0,>=0.5.0 in c:\\users\\neil.ralston.mac\\anaconda3\\envs\\pythondata\\lib\\site-packages (from nbconvert->notebook>=4.4.1->widgetsnbextension~=3.5.0->ipywidgets>=7.0.0->gmaps) (0.5.3)\n",
      "Requirement already satisfied: pandocfilters>=1.4.1 in c:\\users\\neil.ralston.mac\\anaconda3\\envs\\pythondata\\lib\\site-packages (from nbconvert->notebook>=4.4.1->widgetsnbextension~=3.5.0->ipywidgets>=7.0.0->gmaps) (1.4.3)\n",
      "Requirement already satisfied: jupyterlab-pygments in c:\\users\\neil.ralston.mac\\anaconda3\\envs\\pythondata\\lib\\site-packages (from nbconvert->notebook>=4.4.1->widgetsnbextension~=3.5.0->ipywidgets>=7.0.0->gmaps) (0.1.2)\n",
      "Requirement already satisfied: mistune<2,>=0.8.1 in c:\\users\\neil.ralston.mac\\anaconda3\\envs\\pythondata\\lib\\site-packages (from nbconvert->notebook>=4.4.1->widgetsnbextension~=3.5.0->ipywidgets>=7.0.0->gmaps) (0.8.4)\n",
      "Requirement already satisfied: entrypoints>=0.2.2 in c:\\users\\neil.ralston.mac\\anaconda3\\envs\\pythondata\\lib\\site-packages (from nbconvert->notebook>=4.4.1->widgetsnbextension~=3.5.0->ipywidgets>=7.0.0->gmaps) (0.3)\n",
      "Requirement already satisfied: bleach in c:\\users\\neil.ralston.mac\\anaconda3\\envs\\pythondata\\lib\\site-packages (from nbconvert->notebook>=4.4.1->widgetsnbextension~=3.5.0->ipywidgets>=7.0.0->gmaps) (4.0.0)\n",
      "Requirement already satisfied: async-generator in c:\\users\\neil.ralston.mac\\anaconda3\\envs\\pythondata\\lib\\site-packages (from nbclient<0.6.0,>=0.5.0->nbconvert->notebook>=4.4.1->widgetsnbextension~=3.5.0->ipywidgets>=7.0.0->gmaps) (1.10)\n",
      "Requirement already satisfied: nest-asyncio in c:\\users\\neil.ralston.mac\\anaconda3\\envs\\pythondata\\lib\\site-packages (from nbclient<0.6.0,>=0.5.0->nbconvert->notebook>=4.4.1->widgetsnbextension~=3.5.0->ipywidgets>=7.0.0->gmaps) (1.5.1)\n",
      "Requirement already satisfied: packaging in c:\\users\\neil.ralston.mac\\anaconda3\\envs\\pythondata\\lib\\site-packages (from bleach->nbconvert->notebook>=4.4.1->widgetsnbextension~=3.5.0->ipywidgets>=7.0.0->gmaps) (21.0)\n",
      "Requirement already satisfied: webencodings in c:\\users\\neil.ralston.mac\\anaconda3\\envs\\pythondata\\lib\\site-packages (from bleach->nbconvert->notebook>=4.4.1->widgetsnbextension~=3.5.0->ipywidgets>=7.0.0->gmaps) (0.5.1)\n",
      "Requirement already satisfied: pyparsing>=2.0.2 in c:\\users\\neil.ralston.mac\\anaconda3\\envs\\pythondata\\lib\\site-packages (from packaging->bleach->nbconvert->notebook>=4.4.1->widgetsnbextension~=3.5.0->ipywidgets>=7.0.0->gmaps) (3.0.4)\n"
     ]
    }
   ],
   "source": [
    "!pip install gmaps"
   ]
  },
  {
   "cell_type": "code",
   "execution_count": 3,
   "id": "17f324d3",
   "metadata": {},
   "outputs": [
    {
     "name": "stderr",
     "output_type": "stream",
     "text": [
      "Enabling notebook extension jupyter-gmaps/extension...\n",
      "      - Validating: ok\n"
     ]
    }
   ],
   "source": [
    "!jupyter nbextension enable --py --sys-prefix gmaps"
   ]
  },
  {
   "cell_type": "code",
   "execution_count": 4,
   "id": "9694465a",
   "metadata": {},
   "outputs": [],
   "source": [
    "%matplotlib inline"
   ]
  },
  {
   "cell_type": "code",
   "execution_count": 5,
   "id": "4c55103c",
   "metadata": {},
   "outputs": [
    {
     "data": {
      "text/html": [
       "<div>\n",
       "<style scoped>\n",
       "    .dataframe tbody tr th:only-of-type {\n",
       "        vertical-align: middle;\n",
       "    }\n",
       "\n",
       "    .dataframe tbody tr th {\n",
       "        vertical-align: top;\n",
       "    }\n",
       "\n",
       "    .dataframe thead th {\n",
       "        text-align: right;\n",
       "    }\n",
       "</style>\n",
       "<table border=\"1\" class=\"dataframe\">\n",
       "  <thead>\n",
       "    <tr style=\"text-align: right;\">\n",
       "      <th></th>\n",
       "      <th>City_ID</th>\n",
       "      <th>City</th>\n",
       "      <th>Country</th>\n",
       "      <th>Date</th>\n",
       "      <th>Lat</th>\n",
       "      <th>Lng</th>\n",
       "      <th>Max Temp</th>\n",
       "      <th>Humidity</th>\n",
       "      <th>Cloudiness</th>\n",
       "      <th>Wind Speed</th>\n",
       "    </tr>\n",
       "  </thead>\n",
       "  <tbody>\n",
       "    <tr>\n",
       "      <th>0</th>\n",
       "      <td>0</td>\n",
       "      <td>Mataura</td>\n",
       "      <td>NZ</td>\n",
       "      <td>2022-04-29 19:27:35</td>\n",
       "      <td>-46.1927</td>\n",
       "      <td>168.8643</td>\n",
       "      <td>45.48</td>\n",
       "      <td>94</td>\n",
       "      <td>100</td>\n",
       "      <td>3.22</td>\n",
       "    </tr>\n",
       "    <tr>\n",
       "      <th>1</th>\n",
       "      <td>1</td>\n",
       "      <td>Lvovskoye</td>\n",
       "      <td>RU</td>\n",
       "      <td>2022-04-29 19:27:35</td>\n",
       "      <td>44.9944</td>\n",
       "      <td>38.6354</td>\n",
       "      <td>59.11</td>\n",
       "      <td>71</td>\n",
       "      <td>99</td>\n",
       "      <td>10.16</td>\n",
       "    </tr>\n",
       "    <tr>\n",
       "      <th>2</th>\n",
       "      <td>2</td>\n",
       "      <td>Benghazi</td>\n",
       "      <td>LY</td>\n",
       "      <td>2022-04-29 19:27:35</td>\n",
       "      <td>32.1167</td>\n",
       "      <td>20.0667</td>\n",
       "      <td>66.24</td>\n",
       "      <td>72</td>\n",
       "      <td>5</td>\n",
       "      <td>19.62</td>\n",
       "    </tr>\n",
       "    <tr>\n",
       "      <th>3</th>\n",
       "      <td>3</td>\n",
       "      <td>Bambous Virieux</td>\n",
       "      <td>MU</td>\n",
       "      <td>2022-04-29 19:27:36</td>\n",
       "      <td>-20.3428</td>\n",
       "      <td>57.7575</td>\n",
       "      <td>72.21</td>\n",
       "      <td>88</td>\n",
       "      <td>20</td>\n",
       "      <td>1.14</td>\n",
       "    </tr>\n",
       "    <tr>\n",
       "      <th>4</th>\n",
       "      <td>4</td>\n",
       "      <td>Busselton</td>\n",
       "      <td>AU</td>\n",
       "      <td>2022-04-29 19:24:28</td>\n",
       "      <td>-33.6500</td>\n",
       "      <td>115.3333</td>\n",
       "      <td>54.32</td>\n",
       "      <td>84</td>\n",
       "      <td>0</td>\n",
       "      <td>5.10</td>\n",
       "    </tr>\n",
       "  </tbody>\n",
       "</table>\n",
       "</div>"
      ],
      "text/plain": [
       "   City_ID             City Country                 Date      Lat       Lng  \\\n",
       "0        0          Mataura      NZ  2022-04-29 19:27:35 -46.1927  168.8643   \n",
       "1        1        Lvovskoye      RU  2022-04-29 19:27:35  44.9944   38.6354   \n",
       "2        2         Benghazi      LY  2022-04-29 19:27:35  32.1167   20.0667   \n",
       "3        3  Bambous Virieux      MU  2022-04-29 19:27:36 -20.3428   57.7575   \n",
       "4        4        Busselton      AU  2022-04-29 19:24:28 -33.6500  115.3333   \n",
       "\n",
       "   Max Temp  Humidity  Cloudiness  Wind Speed  \n",
       "0     45.48        94         100        3.22  \n",
       "1     59.11        71          99       10.16  \n",
       "2     66.24        72           5       19.62  \n",
       "3     72.21        88          20        1.14  \n",
       "4     54.32        84           0        5.10  "
      ]
     },
     "execution_count": 5,
     "metadata": {},
     "output_type": "execute_result"
    }
   ],
   "source": [
    "# Store the CSV you saved created in part one into a DataFrame.\n",
    "city_data_df = pd.read_csv(\"weather_data/cities.csv\")\n",
    "city_data_df.head()"
   ]
  },
  {
   "cell_type": "code",
   "execution_count": 6,
   "id": "f468e19b",
   "metadata": {},
   "outputs": [
    {
     "data": {
      "text/plain": [
       "City_ID         int64\n",
       "City           object\n",
       "Country        object\n",
       "Date           object\n",
       "Lat           float64\n",
       "Lng           float64\n",
       "Max Temp      float64\n",
       "Humidity        int64\n",
       "Cloudiness      int64\n",
       "Wind Speed    float64\n",
       "dtype: object"
      ]
     },
     "execution_count": 6,
     "metadata": {},
     "output_type": "execute_result"
    }
   ],
   "source": [
    "city_data_df.dtypes\n"
   ]
  },
  {
   "cell_type": "code",
   "execution_count": 7,
   "id": "db120dca",
   "metadata": {},
   "outputs": [],
   "source": [
    "#Create a Maximum Temperature Heatmap"
   ]
  },
  {
   "cell_type": "code",
   "execution_count": 8,
   "id": "d200a705",
   "metadata": {},
   "outputs": [],
   "source": [
    "# Configure gmaps to use your Google API key.\n",
    "gmaps.configure(api_key=g_key)\n"
   ]
  },
  {
   "cell_type": "code",
   "execution_count": 9,
   "id": "354c4eff",
   "metadata": {},
   "outputs": [],
   "source": [
    "# Get the maximum temperature.\n",
    "max_temp = city_data_df[\"Max Temp\"]\n",
    "temps = []\n",
    "for temp in max_temp:\n",
    "    temps.append(max(temp, 0))"
   ]
  },
  {
   "cell_type": "code",
   "execution_count": 10,
   "id": "f0e672fc",
   "metadata": {},
   "outputs": [
    {
     "data": {
      "application/vnd.jupyter.widget-view+json": {
       "model_id": "5b49048af4104a0f994119e3b4bde549",
       "version_major": 2,
       "version_minor": 0
      },
      "text/plain": [
       "Figure(layout=FigureLayout(height='420px'))"
      ]
     },
     "metadata": {},
     "output_type": "display_data"
    }
   ],
   "source": [
    "# Heatmap of temperature\n",
    "# Get the latitude and longitude.\n",
    "locations = city_data_df[[\"Lat\", \"Lng\"]]\n",
    "# Get the maximum temperature.\n",
    "max_temp = city_data_df[\"Max Temp\"]\n",
    "# Assign the figure variable.\n",
    "fig = gmaps.figure()\n",
    "# Assign the heatmap variable.\n",
    "heat_layer = gmaps.heatmap_layer(locations, weights=[max(temp, 0) for temp in max_temp], dissipating=False, max_intensity=300, point_radius=4)\n",
    "# Add the heatmap layer.\n",
    "fig.add_layer(heat_layer)\n",
    "# Call the figure to plot the data.\n",
    "fig"
   ]
  },
  {
   "cell_type": "code",
   "execution_count": 11,
   "id": "81eb2652",
   "metadata": {},
   "outputs": [
    {
     "data": {
      "application/vnd.jupyter.widget-view+json": {
       "model_id": "d2f32df004f14ee4a7841bbd539b988e",
       "version_major": 2,
       "version_minor": 0
      },
      "text/plain": [
       "Figure(layout=FigureLayout(height='420px'))"
      ]
     },
     "metadata": {},
     "output_type": "display_data"
    }
   ],
   "source": [
    "# Heatmap of percent humidity\n",
    "locations = city_data_df[[\"Lat\", \"Lng\"]]\n",
    "humidity = city_data_df[\"Humidity\"]\n",
    "fig = gmaps.figure(center=(30.0, 31.0), zoom_level=1.5)\n",
    "heat_layer = gmaps.heatmap_layer(locations, weights=humidity, dissipating=False, max_intensity=300, point_radius=4)\n",
    "\n",
    "fig.add_layer(heat_layer)\n",
    "# Call the figure to plot the data.\n",
    "fig"
   ]
  },
  {
   "cell_type": "code",
   "execution_count": 12,
   "id": "92c84ece",
   "metadata": {},
   "outputs": [
    {
     "data": {
      "application/vnd.jupyter.widget-view+json": {
       "model_id": "aba6be8c9fa74fdea16ea523e4e0d2e1",
       "version_major": 2,
       "version_minor": 0
      },
      "text/plain": [
       "Figure(layout=FigureLayout(height='420px'))"
      ]
     },
     "metadata": {},
     "output_type": "display_data"
    }
   ],
   "source": [
    "# Heatmap of temperature\n",
    "\n",
    "# Get the latitude and longitude.\n",
    "locations = city_data_df[[\"Lat\", \"Lng\"]]\n",
    "\n",
    "# Get the maximum temperature.\n",
    "max_temp = city_data_df[\"Max Temp\"]\n",
    "\n",
    "# Assign the figure variable.\n",
    "fig = gmaps.figure(center=(30.0, 31.0), zoom_level=1.5)\n",
    "\n",
    "# Assign the heatmap variable.\n",
    "heat_layer = gmaps.heatmap_layer(locations, weights=temps, dissipating=False, max_intensity=300, point_radius=4)\n",
    "\n",
    "# Add the heatmap layer.\n",
    "fig.add_layer(heat_layer)\n",
    "\n",
    "# Call the figure to plot the data.\n",
    "fig"
   ]
  },
  {
   "cell_type": "code",
   "execution_count": 13,
   "id": "23478155",
   "metadata": {},
   "outputs": [
    {
     "name": "stdout",
     "output_type": "stream",
     "text": [
      "Known nbextensions:\n",
      "  config dir: C:\\Users\\neil.ralston.MAC\\Anaconda3\\envs\\PythonData\\etc\\jupyter\\nbconfig\n",
      "    notebook section\n",
      "      jupyter-js-widgets/extension enabled \n",
      "      jupyter-gmaps/extension enabled \n"
     ]
    },
    {
     "name": "stderr",
     "output_type": "stream",
     "text": [
      "      - Validating: ok\n",
      "      - Validating: ok\n"
     ]
    }
   ],
   "source": [
    "!jupyter nbextension list"
   ]
  },
  {
   "cell_type": "code",
   "execution_count": 17,
   "id": "9b7a77aa",
   "metadata": {},
   "outputs": [
    {
     "data": {
      "application/vnd.jupyter.widget-view+json": {
       "model_id": "5f4299543f5b4550aa4d8ddcb6c88281",
       "version_major": 2,
       "version_minor": 0
      },
      "text/plain": [
       "Figure(layout=FigureLayout(height='420px'))"
      ]
     },
     "metadata": {},
     "output_type": "display_data"
    }
   ],
   "source": [
    "# Heatmap of temperature\n",
    "\n",
    "# Get the latitude and longitude.\n",
    "locations = city_data_df[[\"Lat\", \"Lng\"]]\n",
    "\n",
    "# Get the maximum temperature.\n",
    "max_temp = city_data_df[\"Max Temp\"]\n",
    "\n",
    "# Assign the figure variable.\n",
    "fig = gmaps.figure(center=(30.0, 31.0), zoom_level=1.5)\n",
    "\n",
    "# Assign the heatmap variable.\n",
    "heat_layer = gmaps.heatmap_layer(locations, weights=[max(temp, 0) for temp in max_temp], dissipating=False, max_intensity=300, point_radius=4)\n",
    "\n",
    "# Add the heatmap layer.\n",
    "fig.add_layer(heat_layer)\n",
    "\n",
    "# Call the figure to plot the data.\n",
    "fig"
   ]
  },
  {
   "cell_type": "code",
   "execution_count": 18,
   "id": "984e240b",
   "metadata": {},
   "outputs": [
    {
     "data": {
      "application/vnd.jupyter.widget-view+json": {
       "model_id": "5fb9dc4631a0408c8c05f1131b629c6b",
       "version_major": 2,
       "version_minor": 0
      },
      "text/plain": [
       "Figure(layout=FigureLayout(height='420px'))"
      ]
     },
     "metadata": {},
     "output_type": "display_data"
    }
   ],
   "source": [
    "# Heatmap of percent humidity\n",
    "locations = city_data_df[[\"Lat\", \"Lng\"]]\n",
    "humidity = city_data_df[\"Humidity\"]\n",
    "fig = gmaps.figure(center=(30.0, 31.0), zoom_level=1.5)\n",
    "heat_layer = gmaps.heatmap_layer(locations, weights=humidity, dissipating=False, max_intensity=300, point_radius=4)\n",
    "\n",
    "fig.add_layer(heat_layer)\n",
    "# Call the figure to plot the data.\n",
    "fig"
   ]
  },
  {
   "cell_type": "code",
   "execution_count": 19,
   "id": "2d76f80f",
   "metadata": {},
   "outputs": [
    {
     "data": {
      "application/vnd.jupyter.widget-view+json": {
       "model_id": "e243cd16dcb9416c8f15ce1748921e7b",
       "version_major": 2,
       "version_minor": 0
      },
      "text/plain": [
       "Figure(layout=FigureLayout(height='420px'))"
      ]
     },
     "metadata": {},
     "output_type": "display_data"
    }
   ],
   "source": [
    "locations = city_data_df[[\"Lat\", \"Lng\"]]\n",
    "clouds = city_data_df[\"Cloudiness\"]\n",
    "fig = gmaps.figure(center=(30.0, 31.0), zoom_level=1.5)\n",
    "heat_layer = gmaps.heatmap_layer(locations, weights=clouds, dissipating=False, max_intensity=300, point_radius=4)\n",
    "\n",
    "fig.add_layer(heat_layer)\n",
    "# Call the figure to plot the data.\n",
    "fig"
   ]
  },
  {
   "cell_type": "code",
   "execution_count": 20,
   "id": "3470e11b",
   "metadata": {},
   "outputs": [
    {
     "data": {
      "application/vnd.jupyter.widget-view+json": {
       "model_id": "9376bf9e74ca4853b69e4ec7453d7b84",
       "version_major": 2,
       "version_minor": 0
      },
      "text/plain": [
       "Figure(layout=FigureLayout(height='420px'))"
      ]
     },
     "metadata": {},
     "output_type": "display_data"
    }
   ],
   "source": [
    "locations = city_data_df[[\"Lat\", \"Lng\"]]\n",
    "wind = city_data_df[\"Wind Speed\"]\n",
    "fig = gmaps.figure(center=(30.0, 31.0), zoom_level=1.5)\n",
    "heat_layer = gmaps.heatmap_layer(locations, weights=wind, dissipating=False, max_intensity=300, point_radius=4)\n",
    "\n",
    "fig.add_layer(heat_layer)\n",
    "# Call the figure to plot the data.\n",
    "fig"
   ]
  },
  {
   "cell_type": "code",
   "execution_count": 21,
   "id": "6344dee5",
   "metadata": {},
   "outputs": [
    {
     "name": "stdout",
     "output_type": "stream",
     "text": [
      "What is the minimum temperature you would like for your trip? 75\n",
      "What is the maximum temperature you would like for your trip? 90\n"
     ]
    }
   ],
   "source": [
    "# Ask the customer to add a minimum and maximum temperature value.\n",
    "min_temp = float(input(\"What is the minimum temperature you would like for your trip? \"))\n",
    "max_temp = float(input(\"What is the maximum temperature you would like for your trip? \"))"
   ]
  },
  {
   "cell_type": "code",
   "execution_count": 22,
   "id": "703ef779",
   "metadata": {},
   "outputs": [
    {
     "data": {
      "text/html": [
       "<div>\n",
       "<style scoped>\n",
       "    .dataframe tbody tr th:only-of-type {\n",
       "        vertical-align: middle;\n",
       "    }\n",
       "\n",
       "    .dataframe tbody tr th {\n",
       "        vertical-align: top;\n",
       "    }\n",
       "\n",
       "    .dataframe thead th {\n",
       "        text-align: right;\n",
       "    }\n",
       "</style>\n",
       "<table border=\"1\" class=\"dataframe\">\n",
       "  <thead>\n",
       "    <tr style=\"text-align: right;\">\n",
       "      <th></th>\n",
       "      <th>City_ID</th>\n",
       "      <th>City</th>\n",
       "      <th>Country</th>\n",
       "      <th>Date</th>\n",
       "      <th>Lat</th>\n",
       "      <th>Lng</th>\n",
       "      <th>Max Temp</th>\n",
       "      <th>Humidity</th>\n",
       "      <th>Cloudiness</th>\n",
       "      <th>Wind Speed</th>\n",
       "    </tr>\n",
       "  </thead>\n",
       "  <tbody>\n",
       "    <tr>\n",
       "      <th>6</th>\n",
       "      <td>6</td>\n",
       "      <td>Port Blair</td>\n",
       "      <td>IN</td>\n",
       "      <td>2022-04-29 19:27:37</td>\n",
       "      <td>11.6667</td>\n",
       "      <td>92.7500</td>\n",
       "      <td>80.64</td>\n",
       "      <td>89</td>\n",
       "      <td>75</td>\n",
       "      <td>2.30</td>\n",
       "    </tr>\n",
       "    <tr>\n",
       "      <th>17</th>\n",
       "      <td>17</td>\n",
       "      <td>Kapaa</td>\n",
       "      <td>US</td>\n",
       "      <td>2022-04-29 19:27:40</td>\n",
       "      <td>22.0752</td>\n",
       "      <td>-159.3190</td>\n",
       "      <td>78.48</td>\n",
       "      <td>79</td>\n",
       "      <td>40</td>\n",
       "      <td>11.50</td>\n",
       "    </tr>\n",
       "    <tr>\n",
       "      <th>19</th>\n",
       "      <td>19</td>\n",
       "      <td>Puerto Ayora</td>\n",
       "      <td>EC</td>\n",
       "      <td>2022-04-29 19:27:41</td>\n",
       "      <td>-0.7393</td>\n",
       "      <td>-90.3518</td>\n",
       "      <td>78.76</td>\n",
       "      <td>78</td>\n",
       "      <td>82</td>\n",
       "      <td>10.36</td>\n",
       "    </tr>\n",
       "    <tr>\n",
       "      <th>25</th>\n",
       "      <td>25</td>\n",
       "      <td>Saint-Philippe</td>\n",
       "      <td>RE</td>\n",
       "      <td>2022-04-29 19:27:44</td>\n",
       "      <td>-21.3585</td>\n",
       "      <td>55.7679</td>\n",
       "      <td>75.22</td>\n",
       "      <td>83</td>\n",
       "      <td>52</td>\n",
       "      <td>14.58</td>\n",
       "    </tr>\n",
       "    <tr>\n",
       "      <th>31</th>\n",
       "      <td>31</td>\n",
       "      <td>Hilo</td>\n",
       "      <td>US</td>\n",
       "      <td>2022-04-29 19:27:46</td>\n",
       "      <td>19.7297</td>\n",
       "      <td>-155.0900</td>\n",
       "      <td>76.62</td>\n",
       "      <td>82</td>\n",
       "      <td>100</td>\n",
       "      <td>3.44</td>\n",
       "    </tr>\n",
       "    <tr>\n",
       "      <th>32</th>\n",
       "      <td>32</td>\n",
       "      <td>Rikitea</td>\n",
       "      <td>PF</td>\n",
       "      <td>2022-04-29 19:27:47</td>\n",
       "      <td>-23.1203</td>\n",
       "      <td>-134.9692</td>\n",
       "      <td>77.16</td>\n",
       "      <td>71</td>\n",
       "      <td>99</td>\n",
       "      <td>15.46</td>\n",
       "    </tr>\n",
       "    <tr>\n",
       "      <th>34</th>\n",
       "      <td>34</td>\n",
       "      <td>Vaini</td>\n",
       "      <td>TO</td>\n",
       "      <td>2022-04-29 19:27:47</td>\n",
       "      <td>-21.2000</td>\n",
       "      <td>-175.2000</td>\n",
       "      <td>77.16</td>\n",
       "      <td>88</td>\n",
       "      <td>100</td>\n",
       "      <td>9.22</td>\n",
       "    </tr>\n",
       "    <tr>\n",
       "      <th>36</th>\n",
       "      <td>36</td>\n",
       "      <td>Iralaya</td>\n",
       "      <td>HN</td>\n",
       "      <td>2022-04-29 19:27:48</td>\n",
       "      <td>15.0000</td>\n",
       "      <td>-83.2333</td>\n",
       "      <td>83.26</td>\n",
       "      <td>63</td>\n",
       "      <td>21</td>\n",
       "      <td>9.42</td>\n",
       "    </tr>\n",
       "    <tr>\n",
       "      <th>41</th>\n",
       "      <td>41</td>\n",
       "      <td>Morro Bay</td>\n",
       "      <td>US</td>\n",
       "      <td>2022-04-29 19:27:50</td>\n",
       "      <td>35.3658</td>\n",
       "      <td>-120.8499</td>\n",
       "      <td>77.07</td>\n",
       "      <td>53</td>\n",
       "      <td>0</td>\n",
       "      <td>10.00</td>\n",
       "    </tr>\n",
       "    <tr>\n",
       "      <th>42</th>\n",
       "      <td>42</td>\n",
       "      <td>Namatanai</td>\n",
       "      <td>PG</td>\n",
       "      <td>2022-04-29 19:27:51</td>\n",
       "      <td>-3.6667</td>\n",
       "      <td>152.4333</td>\n",
       "      <td>78.48</td>\n",
       "      <td>81</td>\n",
       "      <td>74</td>\n",
       "      <td>4.68</td>\n",
       "    </tr>\n",
       "  </tbody>\n",
       "</table>\n",
       "</div>"
      ],
      "text/plain": [
       "    City_ID            City Country                 Date      Lat       Lng  \\\n",
       "6         6      Port Blair      IN  2022-04-29 19:27:37  11.6667   92.7500   \n",
       "17       17           Kapaa      US  2022-04-29 19:27:40  22.0752 -159.3190   \n",
       "19       19    Puerto Ayora      EC  2022-04-29 19:27:41  -0.7393  -90.3518   \n",
       "25       25  Saint-Philippe      RE  2022-04-29 19:27:44 -21.3585   55.7679   \n",
       "31       31            Hilo      US  2022-04-29 19:27:46  19.7297 -155.0900   \n",
       "32       32         Rikitea      PF  2022-04-29 19:27:47 -23.1203 -134.9692   \n",
       "34       34           Vaini      TO  2022-04-29 19:27:47 -21.2000 -175.2000   \n",
       "36       36         Iralaya      HN  2022-04-29 19:27:48  15.0000  -83.2333   \n",
       "41       41       Morro Bay      US  2022-04-29 19:27:50  35.3658 -120.8499   \n",
       "42       42       Namatanai      PG  2022-04-29 19:27:51  -3.6667  152.4333   \n",
       "\n",
       "    Max Temp  Humidity  Cloudiness  Wind Speed  \n",
       "6      80.64        89          75        2.30  \n",
       "17     78.48        79          40       11.50  \n",
       "19     78.76        78          82       10.36  \n",
       "25     75.22        83          52       14.58  \n",
       "31     76.62        82         100        3.44  \n",
       "32     77.16        71          99       15.46  \n",
       "34     77.16        88         100        9.22  \n",
       "36     83.26        63          21        9.42  \n",
       "41     77.07        53           0       10.00  \n",
       "42     78.48        81          74        4.68  "
      ]
     },
     "execution_count": 22,
     "metadata": {},
     "output_type": "execute_result"
    }
   ],
   "source": [
    "# Filter the dataset to find the cities that fit the criteria.\n",
    "preferred_cities_df = city_data_df.loc[(city_data_df[\"Max Temp\"] <= max_temp) & \\\n",
    "                                       (city_data_df[\"Max Temp\"] >= min_temp)]\n",
    "preferred_cities_df.head(10)"
   ]
  },
  {
   "cell_type": "code",
   "execution_count": 23,
   "id": "96fe2ca6",
   "metadata": {},
   "outputs": [
    {
     "data": {
      "text/plain": [
       "City_ID       166\n",
       "City          166\n",
       "Country       165\n",
       "Date          166\n",
       "Lat           166\n",
       "Lng           166\n",
       "Max Temp      166\n",
       "Humidity      166\n",
       "Cloudiness    166\n",
       "Wind Speed    166\n",
       "dtype: int64"
      ]
     },
     "execution_count": 23,
     "metadata": {},
     "output_type": "execute_result"
    }
   ],
   "source": [
    "preferred_cities_df.count()"
   ]
  },
  {
   "cell_type": "code",
   "execution_count": 24,
   "id": "f346e555",
   "metadata": {},
   "outputs": [
    {
     "data": {
      "text/html": [
       "<div>\n",
       "<style scoped>\n",
       "    .dataframe tbody tr th:only-of-type {\n",
       "        vertical-align: middle;\n",
       "    }\n",
       "\n",
       "    .dataframe tbody tr th {\n",
       "        vertical-align: top;\n",
       "    }\n",
       "\n",
       "    .dataframe thead th {\n",
       "        text-align: right;\n",
       "    }\n",
       "</style>\n",
       "<table border=\"1\" class=\"dataframe\">\n",
       "  <thead>\n",
       "    <tr style=\"text-align: right;\">\n",
       "      <th></th>\n",
       "      <th>City</th>\n",
       "      <th>Country</th>\n",
       "      <th>Max Temp</th>\n",
       "      <th>Lat</th>\n",
       "      <th>Lng</th>\n",
       "      <th>Hotel Name</th>\n",
       "    </tr>\n",
       "  </thead>\n",
       "  <tbody>\n",
       "    <tr>\n",
       "      <th>6</th>\n",
       "      <td>Port Blair</td>\n",
       "      <td>IN</td>\n",
       "      <td>80.64</td>\n",
       "      <td>11.6667</td>\n",
       "      <td>92.7500</td>\n",
       "      <td></td>\n",
       "    </tr>\n",
       "    <tr>\n",
       "      <th>17</th>\n",
       "      <td>Kapaa</td>\n",
       "      <td>US</td>\n",
       "      <td>78.48</td>\n",
       "      <td>22.0752</td>\n",
       "      <td>-159.3190</td>\n",
       "      <td></td>\n",
       "    </tr>\n",
       "    <tr>\n",
       "      <th>19</th>\n",
       "      <td>Puerto Ayora</td>\n",
       "      <td>EC</td>\n",
       "      <td>78.76</td>\n",
       "      <td>-0.7393</td>\n",
       "      <td>-90.3518</td>\n",
       "      <td></td>\n",
       "    </tr>\n",
       "    <tr>\n",
       "      <th>25</th>\n",
       "      <td>Saint-Philippe</td>\n",
       "      <td>RE</td>\n",
       "      <td>75.22</td>\n",
       "      <td>-21.3585</td>\n",
       "      <td>55.7679</td>\n",
       "      <td></td>\n",
       "    </tr>\n",
       "    <tr>\n",
       "      <th>31</th>\n",
       "      <td>Hilo</td>\n",
       "      <td>US</td>\n",
       "      <td>76.62</td>\n",
       "      <td>19.7297</td>\n",
       "      <td>-155.0900</td>\n",
       "      <td></td>\n",
       "    </tr>\n",
       "    <tr>\n",
       "      <th>32</th>\n",
       "      <td>Rikitea</td>\n",
       "      <td>PF</td>\n",
       "      <td>77.16</td>\n",
       "      <td>-23.1203</td>\n",
       "      <td>-134.9692</td>\n",
       "      <td></td>\n",
       "    </tr>\n",
       "    <tr>\n",
       "      <th>34</th>\n",
       "      <td>Vaini</td>\n",
       "      <td>TO</td>\n",
       "      <td>77.16</td>\n",
       "      <td>-21.2000</td>\n",
       "      <td>-175.2000</td>\n",
       "      <td></td>\n",
       "    </tr>\n",
       "    <tr>\n",
       "      <th>36</th>\n",
       "      <td>Iralaya</td>\n",
       "      <td>HN</td>\n",
       "      <td>83.26</td>\n",
       "      <td>15.0000</td>\n",
       "      <td>-83.2333</td>\n",
       "      <td></td>\n",
       "    </tr>\n",
       "    <tr>\n",
       "      <th>41</th>\n",
       "      <td>Morro Bay</td>\n",
       "      <td>US</td>\n",
       "      <td>77.07</td>\n",
       "      <td>35.3658</td>\n",
       "      <td>-120.8499</td>\n",
       "      <td></td>\n",
       "    </tr>\n",
       "    <tr>\n",
       "      <th>42</th>\n",
       "      <td>Namatanai</td>\n",
       "      <td>PG</td>\n",
       "      <td>78.48</td>\n",
       "      <td>-3.6667</td>\n",
       "      <td>152.4333</td>\n",
       "      <td></td>\n",
       "    </tr>\n",
       "  </tbody>\n",
       "</table>\n",
       "</div>"
      ],
      "text/plain": [
       "              City Country  Max Temp      Lat       Lng Hotel Name\n",
       "6       Port Blair      IN     80.64  11.6667   92.7500           \n",
       "17           Kapaa      US     78.48  22.0752 -159.3190           \n",
       "19    Puerto Ayora      EC     78.76  -0.7393  -90.3518           \n",
       "25  Saint-Philippe      RE     75.22 -21.3585   55.7679           \n",
       "31            Hilo      US     76.62  19.7297 -155.0900           \n",
       "32         Rikitea      PF     77.16 -23.1203 -134.9692           \n",
       "34           Vaini      TO     77.16 -21.2000 -175.2000           \n",
       "36         Iralaya      HN     83.26  15.0000  -83.2333           \n",
       "41       Morro Bay      US     77.07  35.3658 -120.8499           \n",
       "42       Namatanai      PG     78.48  -3.6667  152.4333           "
      ]
     },
     "execution_count": 24,
     "metadata": {},
     "output_type": "execute_result"
    }
   ],
   "source": [
    "# Create DataFrame called hotel_df to store hotel names along with city, country, max temp, and coordinates.\n",
    "hotel_df = preferred_cities_df[[\"City\", \"Country\", \"Max Temp\", \"Lat\", \"Lng\"]].copy()\n",
    "hotel_df[\"Hotel Name\"] = \"\"\n",
    "hotel_df.head(10)"
   ]
  },
  {
   "cell_type": "code",
   "execution_count": 25,
   "id": "863c0000",
   "metadata": {},
   "outputs": [],
   "source": [
    "# Set parameters to search for a hotel.\n",
    "params = {\n",
    "    \"radius\": 5000,\n",
    "    \"type\": \"lodging\",\n",
    "    \"key\": g_key\n",
    "}"
   ]
  },
  {
   "cell_type": "code",
   "execution_count": 29,
   "id": "5025a045",
   "metadata": {},
   "outputs": [
    {
     "name": "stdout",
     "output_type": "stream",
     "text": [
      "Hotel not found... skipping.\n",
      "Hotel not found... skipping.\n",
      "Hotel not found... skipping.\n",
      "Hotel not found... skipping.\n",
      "Hotel not found... skipping.\n",
      "Hotel not found... skipping.\n",
      "Hotel not found... skipping.\n",
      "Hotel not found... skipping.\n",
      "Hotel not found... skipping.\n",
      "Hotel not found... skipping.\n",
      "Hotel not found... skipping.\n",
      "Hotel not found... skipping.\n",
      "Hotel not found... skipping.\n",
      "Hotel not found... skipping.\n"
     ]
    }
   ],
   "source": [
    "# Iterate through the DataFrame.\n",
    "for index, row in hotel_df.iterrows():\n",
    "    # Get the latitude and longitude.\n",
    "    lat = row[\"Lat\"]\n",
    "    lng = row[\"Lng\"]\n",
    "\n",
    "    # Add the latitude and longitude to location key for the params dictionary.\n",
    "    params[\"location\"] = f\"{lat},{lng}\"\n",
    "\n",
    "    # Use the search term: \"lodging\" and our latitude and longitude.\n",
    "    base_url = \"https://maps.googleapis.com/maps/api/place/nearbysearch/json\"\n",
    "    # Make request and get the JSON data from the search.\n",
    "    hotels = requests.get(base_url, params=params).json()\n",
    "    # Grab the first hotel from the results and store the name.\n",
    "    try:\n",
    "        hotel_df.loc[index, \"Hotel Name\"] = hotels[\"results\"][0][\"name\"]\n",
    "    except (IndexError):\n",
    "        print(\"Hotel not found... skipping.\")\n",
    "\n"
   ]
  },
  {
   "cell_type": "code",
   "execution_count": 30,
   "id": "2cd313bd",
   "metadata": {},
   "outputs": [
    {
     "data": {
      "text/html": [
       "<div>\n",
       "<style scoped>\n",
       "    .dataframe tbody tr th:only-of-type {\n",
       "        vertical-align: middle;\n",
       "    }\n",
       "\n",
       "    .dataframe tbody tr th {\n",
       "        vertical-align: top;\n",
       "    }\n",
       "\n",
       "    .dataframe thead th {\n",
       "        text-align: right;\n",
       "    }\n",
       "</style>\n",
       "<table border=\"1\" class=\"dataframe\">\n",
       "  <thead>\n",
       "    <tr style=\"text-align: right;\">\n",
       "      <th></th>\n",
       "      <th>City</th>\n",
       "      <th>Country</th>\n",
       "      <th>Max Temp</th>\n",
       "      <th>Lat</th>\n",
       "      <th>Lng</th>\n",
       "      <th>Hotel Name</th>\n",
       "    </tr>\n",
       "  </thead>\n",
       "  <tbody>\n",
       "    <tr>\n",
       "      <th>6</th>\n",
       "      <td>Port Blair</td>\n",
       "      <td>IN</td>\n",
       "      <td>80.64</td>\n",
       "      <td>11.6667</td>\n",
       "      <td>92.7500</td>\n",
       "      <td>Welcomhotel By ITC Hotels, Bay Island, Port Blair</td>\n",
       "    </tr>\n",
       "    <tr>\n",
       "      <th>17</th>\n",
       "      <td>Kapaa</td>\n",
       "      <td>US</td>\n",
       "      <td>78.48</td>\n",
       "      <td>22.0752</td>\n",
       "      <td>-159.3190</td>\n",
       "      <td>Sheraton Kauai Coconut Beach Resort</td>\n",
       "    </tr>\n",
       "    <tr>\n",
       "      <th>19</th>\n",
       "      <td>Puerto Ayora</td>\n",
       "      <td>EC</td>\n",
       "      <td>78.76</td>\n",
       "      <td>-0.7393</td>\n",
       "      <td>-90.3518</td>\n",
       "      <td>Finch Bay Galapagos Hotel</td>\n",
       "    </tr>\n",
       "    <tr>\n",
       "      <th>25</th>\n",
       "      <td>Saint-Philippe</td>\n",
       "      <td>RE</td>\n",
       "      <td>75.22</td>\n",
       "      <td>-21.3585</td>\n",
       "      <td>55.7679</td>\n",
       "      <td>Chambres d'hôte \"La Trinité\"</td>\n",
       "    </tr>\n",
       "    <tr>\n",
       "      <th>31</th>\n",
       "      <td>Hilo</td>\n",
       "      <td>US</td>\n",
       "      <td>76.62</td>\n",
       "      <td>19.7297</td>\n",
       "      <td>-155.0900</td>\n",
       "      <td>Hilo Hawaiian Hotel</td>\n",
       "    </tr>\n",
       "    <tr>\n",
       "      <th>...</th>\n",
       "      <td>...</td>\n",
       "      <td>...</td>\n",
       "      <td>...</td>\n",
       "      <td>...</td>\n",
       "      <td>...</td>\n",
       "      <td>...</td>\n",
       "    </tr>\n",
       "    <tr>\n",
       "      <th>550</th>\n",
       "      <td>Bay Saint Louis</td>\n",
       "      <td>US</td>\n",
       "      <td>83.10</td>\n",
       "      <td>30.3088</td>\n",
       "      <td>-89.3300</td>\n",
       "      <td>The Abode Guest House</td>\n",
       "    </tr>\n",
       "    <tr>\n",
       "      <th>551</th>\n",
       "      <td>Sao Felix Do Xingu</td>\n",
       "      <td>BR</td>\n",
       "      <td>84.07</td>\n",
       "      <td>-6.6447</td>\n",
       "      <td>-51.9950</td>\n",
       "      <td>Rio Xingu Camping</td>\n",
       "    </tr>\n",
       "    <tr>\n",
       "      <th>553</th>\n",
       "      <td>Xuddur</td>\n",
       "      <td>SO</td>\n",
       "      <td>76.86</td>\n",
       "      <td>4.1213</td>\n",
       "      <td>43.8894</td>\n",
       "      <td>Banjanay Hotel</td>\n",
       "    </tr>\n",
       "    <tr>\n",
       "      <th>559</th>\n",
       "      <td>Hattiesburg</td>\n",
       "      <td>US</td>\n",
       "      <td>84.52</td>\n",
       "      <td>31.3271</td>\n",
       "      <td>-89.2903</td>\n",
       "      <td>Quality Inn &amp; Suites</td>\n",
       "    </tr>\n",
       "    <tr>\n",
       "      <th>565</th>\n",
       "      <td>Port-Gentil</td>\n",
       "      <td>GA</td>\n",
       "      <td>80.56</td>\n",
       "      <td>-0.7193</td>\n",
       "      <td>8.7815</td>\n",
       "      <td>Fengshui Residence</td>\n",
       "    </tr>\n",
       "  </tbody>\n",
       "</table>\n",
       "<p>166 rows × 6 columns</p>\n",
       "</div>"
      ],
      "text/plain": [
       "                   City Country  Max Temp      Lat       Lng  \\\n",
       "6            Port Blair      IN     80.64  11.6667   92.7500   \n",
       "17                Kapaa      US     78.48  22.0752 -159.3190   \n",
       "19         Puerto Ayora      EC     78.76  -0.7393  -90.3518   \n",
       "25       Saint-Philippe      RE     75.22 -21.3585   55.7679   \n",
       "31                 Hilo      US     76.62  19.7297 -155.0900   \n",
       "..                  ...     ...       ...      ...       ...   \n",
       "550     Bay Saint Louis      US     83.10  30.3088  -89.3300   \n",
       "551  Sao Felix Do Xingu      BR     84.07  -6.6447  -51.9950   \n",
       "553              Xuddur      SO     76.86   4.1213   43.8894   \n",
       "559         Hattiesburg      US     84.52  31.3271  -89.2903   \n",
       "565         Port-Gentil      GA     80.56  -0.7193    8.7815   \n",
       "\n",
       "                                            Hotel Name  \n",
       "6    Welcomhotel By ITC Hotels, Bay Island, Port Blair  \n",
       "17                 Sheraton Kauai Coconut Beach Resort  \n",
       "19                           Finch Bay Galapagos Hotel  \n",
       "25                        Chambres d'hôte \"La Trinité\"  \n",
       "31                                 Hilo Hawaiian Hotel  \n",
       "..                                                 ...  \n",
       "550                              The Abode Guest House  \n",
       "551                                  Rio Xingu Camping  \n",
       "553                                     Banjanay Hotel  \n",
       "559                               Quality Inn & Suites  \n",
       "565                                 Fengshui Residence  \n",
       "\n",
       "[166 rows x 6 columns]"
      ]
     },
     "execution_count": 30,
     "metadata": {},
     "output_type": "execute_result"
    }
   ],
   "source": [
    "hotel_df\n"
   ]
  },
  {
   "cell_type": "code",
   "execution_count": 31,
   "id": "427f3bcf",
   "metadata": {},
   "outputs": [
    {
     "data": {
      "application/vnd.jupyter.widget-view+json": {
       "model_id": "59ce5b140e5546cb8e92c10fa502b51e",
       "version_major": 2,
       "version_minor": 0
      },
      "text/plain": [
       "Figure(layout=FigureLayout(height='420px'))"
      ]
     },
     "metadata": {},
     "output_type": "display_data"
    }
   ],
   "source": [
    "# Add a heatmap of temperature for the vacation spots.\n",
    "locations = hotel_df[[\"Lat\", \"Lng\"]]\n",
    "max_temp = hotel_df[\"Max Temp\"]\n",
    "fig = gmaps.figure(center=(30.0, 31.0), zoom_level=1.5)\n",
    "heat_layer = gmaps.heatmap_layer(locations, weights=max_temp, dissipating=False,\n",
    "             max_intensity=300, point_radius=4)\n",
    "\n",
    "fig.add_layer(heat_layer)\n",
    "# Call the figure to plot the data.\n",
    "fig"
   ]
  },
  {
   "cell_type": "code",
   "execution_count": 32,
   "id": "5749081d",
   "metadata": {},
   "outputs": [
    {
     "data": {
      "application/vnd.jupyter.widget-view+json": {
       "model_id": "bf3b76410f4540baa2393e5bbb1f4b62",
       "version_major": 2,
       "version_minor": 0
      },
      "text/plain": [
       "Figure(layout=FigureLayout(height='420px'))"
      ]
     },
     "metadata": {},
     "output_type": "display_data"
    }
   ],
   "source": [
    "# Add a heatmap of temperature for the vacation spots and marker for each city.\n",
    "locations = hotel_df[[\"Lat\", \"Lng\"]]\n",
    "max_temp = hotel_df[\"Max Temp\"]\n",
    "fig = gmaps.figure(center=(30.0, 31.0), zoom_level=1.5)\n",
    "heat_layer = gmaps.heatmap_layer(locations, weights=max_temp,\n",
    "             dissipating=False, max_intensity=300, point_radius=4)\n",
    "marker_layer = gmaps.marker_layer(locations)\n",
    "fig.add_layer(heat_layer)\n",
    "fig.add_layer(marker_layer)\n",
    "# Call the figure to plot the data.\n",
    "fig"
   ]
  },
  {
   "cell_type": "code",
   "execution_count": 35,
   "id": "834c0034",
   "metadata": {},
   "outputs": [],
   "source": [
    "info_box_template = \"\"\"\n",
    "<dl>\n",
    "<dt>Hotel Name</dt><dd>{Hotel Name}</dd>\n",
    "<dt>City</dt><dd>{City}</dd>\n",
    "<dt>Country</dt><dd>{Country}</dd>\n",
    "<dt>Max Temp</dt><dd>{Max Temp} °F</dd>\n",
    "</dl>\n",
    "\"\"\"\n",
    "# Store the DataFrame Row.\n",
    "hotel_info = [info_box_template.format(**row) for index, row in hotel_df.iterrows()]"
   ]
  },
  {
   "cell_type": "code",
   "execution_count": 37,
   "id": "45da16b2",
   "metadata": {},
   "outputs": [
    {
     "data": {
      "application/vnd.jupyter.widget-view+json": {
       "model_id": "5262d16a7bd54d02bcfefa181c0bd649",
       "version_major": 2,
       "version_minor": 0
      },
      "text/plain": [
       "Figure(layout=FigureLayout(height='420px'))"
      ]
     },
     "metadata": {},
     "output_type": "display_data"
    }
   ],
   "source": [
    "# Add a heatmap of temperature for the vacation spots and a pop-up marker for each city.\n",
    "locations = hotel_df[[\"Lat\", \"Lng\"]]\n",
    "max_temp = hotel_df[\"Max Temp\"]\n",
    "fig = gmaps.figure(center=(30.0, 31.0), zoom_level=1.5)\n",
    "heat_layer = gmaps.heatmap_layer(locations, weights=max_temp,dissipating=False,\n",
    "             max_intensity=300, point_radius=4)\n",
    "marker_layer = gmaps.marker_layer(locations, info_box_content=hotel_info)\n",
    "fig.add_layer(heat_layer)\n",
    "fig.add_layer(marker_layer)\n",
    "\n",
    "# Call the figure to plot the data.\n",
    "fig"
   ]
  },
  {
   "cell_type": "code",
   "execution_count": null,
   "id": "4d02affe",
   "metadata": {},
   "outputs": [],
   "source": []
  }
 ],
 "metadata": {
  "kernelspec": {
   "display_name": "PythonData",
   "language": "python",
   "name": "pythondata"
  },
  "language_info": {
   "codemirror_mode": {
    "name": "ipython",
    "version": 3
   },
   "file_extension": ".py",
   "mimetype": "text/x-python",
   "name": "python",
   "nbconvert_exporter": "python",
   "pygments_lexer": "ipython3",
   "version": "3.7.11"
  }
 },
 "nbformat": 4,
 "nbformat_minor": 5
}
